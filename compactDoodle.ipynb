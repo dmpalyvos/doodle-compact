{
 "cells": [
  {
   "cell_type": "code",
   "execution_count": null,
   "metadata": {},
   "outputs": [],
   "source": [
    "import pandas as pd\n",
    "import matplotlib\n",
    "import matplotlib.pyplot as plt\n",
    "import matplotlib.dates as mdates\n",
    "import matplotlib.patches as mpatches\n",
    "import seaborn as sns\n",
    "import numpy as np\n",
    "import os\n",
    "import glob \n",
    "from pandas import ExcelWriter\n",
    "import re\n",
    "plt.style.use('ggplot')"
   ]
  },
  {
   "cell_type": "code",
   "execution_count": null,
   "metadata": {},
   "outputs": [],
   "source": [
    "# Column/row numbers in case doodle changes the output format\n",
    "OK_VALUE = 'OK' # The name of a \"yes\" vote (might need editing if you have \"maybe\" votes too)\n",
    "PARTICIPANT_NAME_COLUMN_IDX = 0 # The column where the participant names are\n",
    "DATA_START_COLUMN_IDX= PARTICIPANT_NAME_COLUMN_IDX + 1 # The column where the votes start\n",
    "DATE_START_ROW_IDX = 2 # The row where the dates and times start\n",
    "DATE_END_ROW_IDX = DATE_START_ROW_IDX + 2\n",
    "\n",
    "\n",
    "def repeatDate(row):\n",
    "    previousDate = None\n",
    "    newRow = []\n",
    "    for v in row:\n",
    "        if type(v) == str and v:\n",
    "            previousDate = v\n",
    "        newRow.append(previousDate)\n",
    "    return pd.Series(newRow)\n",
    "\n",
    "\n",
    "\n",
    "def replaceOK(row):\n",
    "    return row.apply(lambda v: v if v != OK_VALUE else row.iloc[PARTICIPANT_NAME_COLUMN_IDX])"
   ]
  },
  {
   "cell_type": "code",
   "execution_count": null,
   "metadata": {},
   "outputs": [],
   "source": [
    "FILENAME='Doodle'\n",
    "doodle = pd.read_excel(f'{FILENAME}.xls')"
   ]
  },
  {
   "cell_type": "code",
   "execution_count": null,
   "metadata": {},
   "outputs": [],
   "source": [
    "# Repeat dates in each cell they apply to\n",
    "doodle.iloc[DATE_START_ROW_IDX:DATE_END_ROW_IDX] = doodle.iloc[DATE_START_ROW_IDX:DATE_END_ROW_IDX].apply(repeatDate, axis=1)\n",
    "# Replace OK with participant name and compact table by removing NaN\n",
    "doodle = doodle.apply(replaceOK, axis=1)\n",
    "doodle\n"
   ]
  },
  {
   "cell_type": "code",
   "execution_count": null,
   "metadata": {},
   "outputs": [],
   "source": [
    "doodle = doodle.iloc[DATE_START_ROW_IDX:, DATA_START_COLUMN_IDX:] # keep only relevant rows\n",
    "doodle = doodle.dropna(how='all').transpose().reset_index(drop=True) # Drop NaN rows\n",
    "doodle = doodle[doodle.iloc[:, -1] > 0] # Keep only count > 0\n",
    "doodle = doodle.drop(doodle.columns[-1], axis=1) # Drop \"count\" column\n",
    "doodle = doodle.apply(lambda r: r.dropna().reset_index(drop=True), axis=1) # Column compaction, remove nan values\n",
    "\n",
    "# Name participants\n",
    "dateColumns = ['Month', 'Day', 'Time']\n",
    "participants = [f'Participant {i+1}' for i in range(len(doodle.columns)-len(dateColumns))]\n",
    "# Rename columns\n",
    "doodle.columns = dateColumns + participants\n",
    "print('Final Compacted Doodle:')\n",
    "doodle"
   ]
  },
  {
   "cell_type": "code",
   "execution_count": null,
   "metadata": {},
   "outputs": [],
   "source": [
    "excelWriter = pd.ExcelWriter(f'{FILENAME}_compacted.xls')\n",
    "doodle.to_excel(excelWriter, index=False)\n",
    "excelWriter.save()"
   ]
  },
  {
   "cell_type": "code",
   "execution_count": null,
   "metadata": {},
   "outputs": [],
   "source": []
  },
  {
   "cell_type": "code",
   "execution_count": null,
   "metadata": {},
   "outputs": [],
   "source": []
  }
 ],
 "metadata": {
  "kernelspec": {
   "display_name": "Python 3",
   "language": "python",
   "name": "python3"
  },
  "language_info": {
   "codemirror_mode": {
    "name": "ipython",
    "version": 3
   },
   "file_extension": ".py",
   "mimetype": "text/x-python",
   "name": "python",
   "nbconvert_exporter": "python",
   "pygments_lexer": "ipython3",
   "version": "3.6.8"
  },
  "varInspector": {
   "cols": {
    "lenName": 16,
    "lenType": 16,
    "lenVar": 40
   },
   "kernels_config": {
    "python": {
     "delete_cmd_postfix": "",
     "delete_cmd_prefix": "del ",
     "library": "var_list.py",
     "varRefreshCmd": "print(var_dic_list())"
    },
    "r": {
     "delete_cmd_postfix": ") ",
     "delete_cmd_prefix": "rm(",
     "library": "var_list.r",
     "varRefreshCmd": "cat(var_dic_list()) "
    }
   },
   "types_to_exclude": [
    "module",
    "function",
    "builtin_function_or_method",
    "instance",
    "_Feature"
   ],
   "window_display": false
  }
 },
 "nbformat": 4,
 "nbformat_minor": 2
}
